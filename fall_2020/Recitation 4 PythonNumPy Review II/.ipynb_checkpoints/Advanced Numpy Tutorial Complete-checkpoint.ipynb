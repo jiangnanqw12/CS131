{
 "cells": [
  {
   "cell_type": "markdown",
   "metadata": {
    "id": "pQhk2dHpULR5"
   },
   "source": [
    "# Quick and Dirty Guide To Numpy\n",
    "\n",
    "\n",
    "**So you want to learn about numpy?**\n",
    "\n",
    "Numpy is an important library for anyone wanting to work with large scale datasets in Python.  Numpy arrays provide value because they are easier and faster to manipulate than traditional python lists.\n",
    "\n",
    "### Why use numpy arrays instead of Python lists?\n",
    "\n",
    "1. Saves you time as a programmer: when using lists, you have to use loops to apply a function to each element of an array.  In numpy, all common mathematical computations can be vectorized.  This leads to a much faster runtime, as well as fewer lines of code. \n",
    "\n",
    "2. Under the hood, numpy arrays use less memory, and are constrained to a single data type, which enables faster execution."
   ]
  },
  {
   "cell_type": "markdown",
   "metadata": {
    "id": "0MBJiZhzULR7"
   },
   "source": [
    "<img src=\"memory_diagram.png\">\n",
    "\n",
    "The figure above shows the memory diagram of a numpy array.  Python lists have special functionality where their elements don't all have to be of the same type.  As a result, under the hood python lists are actually an array of pointers that point to the actual array elements.  Hopefully, this fact provides some intuition as to why many operations run faster with numpy arrays as the underlying data structure! Neat!"
   ]
  },
  {
   "cell_type": "markdown",
   "metadata": {
    "id": "wxOzKwnRULR8"
   },
   "source": [
    "### Let's get started!"
   ]
  },
  {
   "cell_type": "code",
   "execution_count": 1,
   "metadata": {
    "executionInfo": {
     "elapsed": 464,
     "status": "ok",
     "timestamp": 1602294619516,
     "user": {
      "displayName": "Austin Osceola Narcomey",
      "photoUrl": "",
      "userId": "13958115673227118223"
     },
     "user_tz": 420
    },
    "id": "_NkT98FZULR9"
   },
   "outputs": [],
   "source": [
    "#It's a common convention to abbreviate numpy as np\n",
    "import numpy as np\n"
   ]
  },
  {
   "cell_type": "markdown",
   "metadata": {
    "id": "RIG4FbJByvZq"
   },
   "source": [
    "## Stuff from last time"
   ]
  },
  {
   "cell_type": "markdown",
   "metadata": {
    "id": "Pd4PAwQDULSA"
   },
   "source": [
    "### Creating a Numpy Array\n",
    "There are many ways to create a numpy array.  In general, the options are \n",
    "- converting other Python data structures to np.array format\n",
    "- numpy functions that create new arrays (i.e. np.ones, np.zeros, np.arange)\n",
    "- reading files from disk (in this class, mostly images)"
   ]
  },
  {
   "cell_type": "markdown",
   "metadata": {
    "id": "3Eeo1ld-ULSB"
   },
   "source": [
    "Note that unlike lists, you can't create an empty numpy array"
   ]
  },
  {
   "cell_type": "code",
   "execution_count": 2,
   "metadata": {
    "id": "3I4CCHUuULSB"
   },
   "outputs": [
    {
     "name": "stdout",
     "output_type": "stream",
     "text": [
      "1 dimensional: \n",
      "Shape:  (5,)\n"
     ]
    },
    {
     "data": {
      "text/plain": [
       "array([1, 2, 3, 4, 5])"
      ]
     },
     "execution_count": 2,
     "metadata": {},
     "output_type": "execute_result"
    }
   ],
   "source": [
    "# create a 1 dimensional array from a list: [1,2,3,4,5]\n",
    "print(\"1 dimensional: \")\n",
    "x = np.array([1,2,3,4,5])\n",
    "print(\"Shape: \", x.shape)\n",
    "x"
   ]
  },
  {
   "cell_type": "code",
   "execution_count": 3,
   "metadata": {
    "id": "mDrDKgovULSE"
   },
   "outputs": [
    {
     "name": "stdout",
     "output_type": "stream",
     "text": [
      "2 dimensional: \n",
      "Shape:  (2, 5)\n"
     ]
    },
    {
     "data": {
      "text/plain": [
       "array([[ 1,  2,  3,  4,  5],\n",
       "       [ 6,  7,  8,  9, 10]])"
      ]
     },
     "execution_count": 3,
     "metadata": {},
     "output_type": "execute_result"
    }
   ],
   "source": [
    "# Create a 2-d array from multiple lists: \n",
    "    # first row = [1,2,3,4,5]\n",
    "    # second row = [6,7,8,9,10]\n",
    "print(\"2 dimensional: \")\n",
    "y = np.array([[1,2,3,4,5], [6,7,8,9,10]])\n",
    "print(\"Shape: \", y.shape)\n",
    "y"
   ]
  },
  {
   "cell_type": "code",
   "execution_count": 4,
   "metadata": {
    "id": "JeLSZ7qTULSG"
   },
   "outputs": [
    {
     "data": {
      "text/plain": [
       "array([[0., 0., 0.],\n",
       "       [0., 0., 0.],\n",
       "       [0., 0., 0.]])"
      ]
     },
     "execution_count": 4,
     "metadata": {},
     "output_type": "execute_result"
    }
   ],
   "source": [
    "# you can create an array of any dimensions using np.zeros\n",
    "z = np.zeros((3,3))\n",
    "z"
   ]
  },
  {
   "cell_type": "code",
   "execution_count": 5,
   "metadata": {
    "id": "_6Vx-mg9ULSK"
   },
   "outputs": [
    {
     "name": "stdout",
     "output_type": "stream",
     "text": [
      "[[1. 0. 0.]\n",
      " [0. 1. 0.]\n",
      " [0. 0. 1.]]\n"
     ]
    },
    {
     "data": {
      "text/plain": [
       "array([[1., 1.],\n",
       "       [1., 1.]])"
      ]
     },
     "execution_count": 5,
     "metadata": {},
     "output_type": "execute_result"
    }
   ],
   "source": [
    "#other handy things\n",
    "identity = np.identity(3)\n",
    "print(identity)\n",
    "\n",
    "ones = np.ones((2,2))\n",
    "ones"
   ]
  },
  {
   "cell_type": "markdown",
   "metadata": {
    "id": "DlRDGxDrULSN"
   },
   "source": [
    "### Array attributes"
   ]
  },
  {
   "cell_type": "markdown",
   "metadata": {
    "id": "IiA5XuDsULSN"
   },
   "source": [
    "Every numpy array is a grid of elements of the same type. Numpy provides a large set of numeric datatypes that you can use to construct arrays. Numpy tries to guess a datatype when you create an array, but functions that construct arrays usually also include an optional argument to explicitly specify the datatype. Take a look at the attributes associated with a numpy array, and then we'll explore how numpy arrays determine their type."
   ]
  },
  {
   "cell_type": "code",
   "execution_count": 6,
   "metadata": {
    "id": "h3jXqb3LULSO"
   },
   "outputs": [
    {
     "name": "stdout",
     "output_type": "stream",
     "text": [
      "(3, 3)\n",
      "9\n",
      "float64\n"
     ]
    }
   ],
   "source": [
    "print(identity.shape) #returns tuple of dimensions\n",
    "print(identity.size) # returns total number of elements\n",
    "print(identity.dtype) #the default dtype is float64"
   ]
  },
  {
   "cell_type": "code",
   "execution_count": 7,
   "metadata": {
    "id": "BzgOMl6mULSQ"
   },
   "outputs": [
    {
     "name": "stdout",
     "output_type": "stream",
     "text": [
      "int32 float64 int64\n"
     ]
    }
   ],
   "source": [
    "x = np.array([1, 2])  # Let numpy choose the datatype\n",
    "y = np.array([1.0, 2.0])  # Let numpy choose the datatype\n",
    "z = np.array([1, 2], dtype=np.int64)  # Force a particular datatype\n",
    "\n",
    "print(x.dtype, y.dtype, z.dtype)"
   ]
  },
  {
   "cell_type": "markdown",
   "metadata": {
    "id": "5oTrjHsdULST"
   },
   "source": [
    "### Accessing elements"
   ]
  },
  {
   "cell_type": "markdown",
   "metadata": {
    "id": "P3t2quTiULSU"
   },
   "source": [
    "Numpy offers several ways to index into arrays. When arrays are one dimensional, indexing works just like lists. When arrays are 2 or more dimensional, you specify an index for each dimension:\n",
    "\n",
    "`value = array[row_index, col_index]`"
   ]
  },
  {
   "cell_type": "code",
   "execution_count": 8,
   "metadata": {
    "id": "beVECW0BULSU"
   },
   "outputs": [
    {
     "name": "stdout",
     "output_type": "stream",
     "text": [
      "[[1 2 3]\n",
      " [4 5 6]]\n",
      "expecting 3, got:  3\n",
      "expecting 4, got:  4\n"
     ]
    }
   ],
   "source": [
    "# Create a 2-dimensional array (matrix)\n",
    "# [[ 1  2  3]\n",
    "#  [ 4  5  6]]\n",
    "a = np.array([[1,2,3],[4,5,6]])   \n",
    "print(a)\n",
    "\n",
    "# Access the 3 with array indexing\n",
    "a_3 = a[0,2]\n",
    "print(\"expecting 3, got: \", a_3)\n",
    "\n",
    "# Access the 4 with array indexing\n",
    "a_4 = a[1,0]\n",
    "print(\"expecting 4, got: \", a_4)"
   ]
  },
  {
   "cell_type": "markdown",
   "metadata": {
    "id": "KtdtiweUULSW"
   },
   "source": [
    "Slicing: Similar to Python lists, numpy arrays can be sliced. Since arrays may be multidimensional, you must specify a slice for each dimension of the array. Recall how slicing works in lists:"
   ]
  },
  {
   "cell_type": "code",
   "execution_count": 9,
   "metadata": {
    "id": "S8Z0QU25ULSX"
   },
   "outputs": [
    {
     "name": "stdout",
     "output_type": "stream",
     "text": [
      "[0, 1, 2, 3, 4]\n",
      "All elements of l:  [0, 1, 2, 3, 4]\n",
      "All after 2nd element:  [2, 3, 4]\n",
      "All before 2nd element:  [0, 1]\n",
      "All between 1st and 3rd element exclusive:  [1, 2]\n"
     ]
    }
   ],
   "source": [
    "# Recall list slicing:\n",
    "l = [0,1,2,3,4]\n",
    "\n",
    "print(l)\n",
    "print(\"All elements of l: \", l[:])\n",
    "print(\"All after 2nd element: \", l[2:])\n",
    "print(\"All before 2nd element: \", l[:2])\n",
    "print(\"All between 1st and 3rd element exclusive: \", l[1:3])"
   ]
  },
  {
   "cell_type": "markdown",
   "metadata": {
    "id": "qvrCvwSjULSZ"
   },
   "source": [
    "Now let's try slicing in two dimensions!"
   ]
  },
  {
   "cell_type": "code",
   "execution_count": 10,
   "metadata": {
    "id": "4t_fIikyULSa"
   },
   "outputs": [
    {
     "name": "stdout",
     "output_type": "stream",
     "text": [
      "a = \n",
      " [[1 2 3]\n",
      " [4 5 6]]\n",
      "0th row expecting [1,2,3], got:  [1 2 3]\n",
      "0th column expecting [1,4], got:  [1 4]\n"
     ]
    }
   ],
   "source": [
    "print(\"a = \\n\", a)\n",
    "\n",
    "# Access the 0th row of a:\n",
    "a_row0 = a[0,:]\n",
    "print(\"0th row expecting [1,2,3], got: \", a_row0)\n",
    "\n",
    "# Access the 0th column of a\n",
    "a_col0 = a[:,0]\n",
    "print(\"0th column expecting [1,4], got: \", a_col0)"
   ]
  },
  {
   "cell_type": "code",
   "execution_count": 11,
   "metadata": {
    "id": "6DKoVOQ8ULSc"
   },
   "outputs": [
    {
     "name": "stdout",
     "output_type": "stream",
     "text": [
      "[[ 1  2  3  4]\n",
      " [ 5  6  7  8]\n",
      " [ 9 10 11 12]\n",
      " [13 14 15 16]]\n"
     ]
    }
   ],
   "source": [
    "# TODO: Create the following rank 2 array with shape (3, 4)\n",
    "# [[ 1,  2,  3,  4]\n",
    "#  [ 5,  6,  7,  8]\n",
    "#  [ 9, 10, 11, 12]\n",
    "#  [13, 14, 15, 16]]\n",
    "\n",
    "# HINT: if you want to take a fancy shortcut, use np.arange() to create this matrix\n",
    "\n",
    "b = np.array([[ 1,  2,  3,  4],\n",
    "              [ 5,  6,  7,  8],\n",
    "              [ 9, 10, 11, 12],\n",
    "              [ 13, 14, 15, 16]])\n",
    "print(b)"
   ]
  },
  {
   "cell_type": "code",
   "execution_count": 12,
   "metadata": {
    "id": "0sZ90CesULSf"
   },
   "outputs": [
    {
     "name": "stdout",
     "output_type": "stream",
     "text": [
      "middle two rows: \n",
      " [[ 5  6  7  8]\n",
      " [ 9 10 11 12]]\n",
      "middle two columns: \n",
      " [[ 2  3]\n",
      " [ 6  7]\n",
      " [10 11]\n",
      " [14 15]]\n",
      "center two columns and two rows: \n",
      " [[ 6  7]\n",
      " [10 11]]\n"
     ]
    }
   ],
   "source": [
    "# TODO: use slicing to pull out the middle two rows\n",
    "b_rows = b[1:3,:]\n",
    "print(\"middle two rows: \\n\", b_rows)\n",
    "\n",
    "# TODO: use slicing to pull out the middle two columns\n",
    "b_cols = b[:,1:3]\n",
    "print(\"middle two columns: \\n\", b_cols)\n",
    "\n",
    "# TODO: use slicing to pull out only the middle two rows and middle two columns,\n",
    "# meaning a (2,2) array: \n",
    "# [[6 7]\n",
    "#  [10 11]]\n",
    "b_center = b[1:3,1:3]\n",
    "print(\"center two columns and two rows: \\n\", b_center)\n"
   ]
  },
  {
   "cell_type": "markdown",
   "metadata": {
    "id": "zVEfDDuTULSh"
   },
   "source": [
    "A slice of an array is a view into the same data, so modifying it will modify the original array."
   ]
  },
  {
   "cell_type": "code",
   "execution_count": 13,
   "metadata": {
    "id": "05SmMyhlULSi"
   },
   "outputs": [
    {
     "name": "stdout",
     "output_type": "stream",
     "text": [
      "original a = \n",
      " [[1 2 3]\n",
      " [4 5 6]]\n",
      "new a = \n",
      " [[  1 100   3]\n",
      " [  4   5   6]]\n"
     ]
    }
   ],
   "source": [
    "# [[ 1  2  3]\n",
    "#  [ 4  5  6]]\n",
    "a = np.array([[1,2,3],[4,5,6]])   \n",
    "print(\"original a = \\n\", a)\n",
    "\n",
    "a_row0 = a[0,:]\n",
    "a_row0[1] = 100 # a_row0[1] is the same piece of data as a[0, 1]\n",
    "\n",
    "print(\"new a = \\n\", a)"
   ]
  },
  {
   "cell_type": "markdown",
   "metadata": {
    "id": "tLnAtAOxULSk"
   },
   "source": [
    "### Matrix Operations\n",
    "Numpy makes it easy to do matrix operations on arrays, like multiply, invert, etc. Basic mathematical functions operate elementwise on arrays, and are available both as operator overloads and as functions in the numpy module"
   ]
  },
  {
   "cell_type": "code",
   "execution_count": 14,
   "metadata": {
    "id": "FcL7SgOMULSk"
   },
   "outputs": [
    {
     "name": "stdout",
     "output_type": "stream",
     "text": [
      "x = \n",
      " [[1. 2.]\n",
      " [3. 4.]]\n",
      "float64\n",
      "y = \n",
      " [[5. 6.]\n",
      " [7. 8.]]\n",
      "float64\n"
     ]
    }
   ],
   "source": [
    "x = np.array([[1,2],[3,4]], dtype=np.float64)\n",
    "y = np.array([[5,6],[7,8]], dtype=np.float64)\n",
    "\n",
    "print(\"x = \\n\", x)\n",
    "print(x.dtype)\n",
    "print(\"y = \\n\", y)\n",
    "print(y.dtype)\n",
    "\n"
   ]
  },
  {
   "cell_type": "code",
   "execution_count": 15,
   "metadata": {
    "id": "uT6wLrC6ULSm"
   },
   "outputs": [
    {
     "name": "stdout",
     "output_type": "stream",
     "text": [
      "Original x: \n",
      "[[1. 2.]\n",
      " [3. 4.]]\n",
      "\n",
      "x+1\n",
      "[[2. 3.]\n",
      " [4. 5.]]\n",
      "\n",
      "x*4.5\n",
      "[[ 4.5  9. ]\n",
      " [13.5 18. ]]\n",
      "\n",
      "x/2.0\n",
      "[[0.5 1. ]\n",
      " [1.5 2. ]]\n"
     ]
    }
   ],
   "source": [
    "#all arithmetic operations are applied to a matrix element-wise\n",
    "print(\"Original x: \")\n",
    "print(x)\n",
    "print(\"\\nx+1\")\n",
    "print(x + 1)\n",
    "print(\"\\nx*4.5\")\n",
    "print(4.5*x)\n",
    "print(\"\\nx/2.0\")\n",
    "print(x/2.0)"
   ]
  },
  {
   "cell_type": "code",
   "execution_count": 16,
   "metadata": {
    "id": "Fbl46wG2ULSp"
   },
   "outputs": [
    {
     "name": "stdout",
     "output_type": "stream",
     "text": [
      "x = \n",
      " [[1. 2.]\n",
      " [3. 4.]]\n",
      "y = \n",
      " [[5. 6.]\n",
      " [7. 8.]]\n",
      "\n",
      "x+y:\n",
      "[[ 6.  8.]\n",
      " [10. 12.]]\n",
      "[[ 6.  8.]\n",
      " [10. 12.]]\n"
     ]
    }
   ],
   "source": [
    "# Elementwise sum; both produce the array\n",
    "print(\"x = \\n\", x)\n",
    "print(\"y = \\n\", y)\n",
    "print(\"\\nx+y:\")\n",
    "print(x + y)\n",
    "print(np.add(x, y))"
   ]
  },
  {
   "cell_type": "code",
   "execution_count": 17,
   "metadata": {
    "id": "rKK-XXwjULSs"
   },
   "outputs": [
    {
     "name": "stdout",
     "output_type": "stream",
     "text": [
      "x = \n",
      " [[1. 2.]\n",
      " [3. 4.]]\n",
      "y = \n",
      " [[5. 6.]\n",
      " [7. 8.]]\n",
      "\n",
      "x-y:\n",
      "[[-4. -4.]\n",
      " [-4. -4.]]\n",
      "[[-4. -4.]\n",
      " [-4. -4.]]\n"
     ]
    }
   ],
   "source": [
    "# Elementwise difference; both produce the array\n",
    "print(\"x = \\n\", x)\n",
    "print(\"y = \\n\", y)\n",
    "print(\"\\nx-y:\")\n",
    "print(x - y)\n",
    "print(np.subtract(x, y))"
   ]
  },
  {
   "cell_type": "code",
   "execution_count": 18,
   "metadata": {
    "id": "c40V6-fAULSu"
   },
   "outputs": [
    {
     "name": "stdout",
     "output_type": "stream",
     "text": [
      "x = \n",
      " [[1. 2.]\n",
      " [3. 4.]]\n",
      "y = \n",
      " [[5. 6.]\n",
      " [7. 8.]]\n",
      "\n",
      "x*y:\n",
      "[[ 5. 12.]\n",
      " [21. 32.]]\n",
      "[[ 5. 12.]\n",
      " [21. 32.]]\n"
     ]
    }
   ],
   "source": [
    "# Elementwise product; both produce the array\n",
    "print(\"x = \\n\", x)\n",
    "print(\"y = \\n\", y)\n",
    "print(\"\\nx*y:\")\n",
    "print(x * y)\n",
    "print(np.multiply(x, y))"
   ]
  },
  {
   "cell_type": "code",
   "execution_count": 19,
   "metadata": {
    "id": "WBmy06M8ULSw"
   },
   "outputs": [
    {
     "name": "stdout",
     "output_type": "stream",
     "text": [
      "x = \n",
      " [[1. 2.]\n",
      " [3. 4.]]\n",
      "y = \n",
      " [[5. 6.]\n",
      " [7. 8.]]\n",
      "\n",
      "x/y:\n",
      "[[0.2        0.33333333]\n",
      " [0.42857143 0.5       ]]\n",
      "[[0.2        0.33333333]\n",
      " [0.42857143 0.5       ]]\n"
     ]
    }
   ],
   "source": [
    "# Elementwise division; both produce the array\n",
    "# [[ 0.2         0.33333333]\n",
    "#  [ 0.42857143  0.5       ]]\n",
    "print(\"x = \\n\", x)\n",
    "print(\"y = \\n\", y)\n",
    "print(\"\\nx/y:\")\n",
    "print(x / y)\n",
    "print(np.divide(x, y))"
   ]
  },
  {
   "cell_type": "code",
   "execution_count": 20,
   "metadata": {
    "id": "HPSJS0TqULSx"
   },
   "outputs": [
    {
     "name": "stdout",
     "output_type": "stream",
     "text": [
      "x = \n",
      " [[1. 2.]\n",
      " [3. 4.]]\n",
      "\n",
      "sqrt(x):\n",
      "[[1.         1.41421356]\n",
      " [1.73205081 2.        ]]\n"
     ]
    }
   ],
   "source": [
    "# Elementwise square root; produces the array\n",
    "# [[ 1.          1.41421356]\n",
    "#  [ 1.73205081  2.        ]]\n",
    "print(\"x = \\n\", x)\n",
    "print(\"\\nsqrt(x):\")\n",
    "print(np.sqrt(x))"
   ]
  },
  {
   "cell_type": "code",
   "execution_count": 21,
   "metadata": {
    "id": "VjJsksKnULSz"
   },
   "outputs": [
    {
     "name": "stdout",
     "output_type": "stream",
     "text": [
      "x = \n",
      " [[1. 2.]\n",
      " [3. 4.]]\n",
      "\n",
      "x^2:\n",
      "[[ 1.  4.]\n",
      " [ 9. 16.]]\n"
     ]
    }
   ],
   "source": [
    "# Elementwise power; produces the array\n",
    "# [[ 1.          1.41421356]\n",
    "#  [ 1.73205081  2.        ]]\n",
    "print(\"x = \\n\", x)\n",
    "print(\"\\nx^2:\")\n",
    "print(np.power(x,2))"
   ]
  },
  {
   "cell_type": "code",
   "execution_count": 22,
   "metadata": {
    "id": "UceZs5wTULS2"
   },
   "outputs": [
    {
     "data": {
      "text/plain": [
       "array([[ 5., 12.],\n",
       "       [21., 32.]])"
      ]
     },
     "execution_count": 22,
     "metadata": {},
     "output_type": "execute_result"
    }
   ],
   "source": [
    "# Will this multiplication operator do elementwise multiplication or matrix multiplication?\n",
    "x*y"
   ]
  },
  {
   "cell_type": "markdown",
   "metadata": {
    "id": "y7OH25nVULS4"
   },
   "source": [
    "Let's practice these operations!\n",
    "\n",
    "Given arrays x and y, write array z as a function of x and y: z[0] = x[0] - y[0], and z[1] = x[1] - y[1]. Use numpy operations!\n",
    "\n",
    "Hint: think about how the 2 equations may be written with vector operations (such as those above), and that will translate cleanly to numpy "
   ]
  },
  {
   "cell_type": "code",
   "execution_count": 23,
   "metadata": {
    "id": "s9BkBqXCULS4"
   },
   "outputs": [
    {
     "name": "stdout",
     "output_type": "stream",
     "text": [
      "Your answer:  [-1 -2]\n",
      "Expecting:  [-1 -2]\n",
      "Correct!\n"
     ]
    }
   ],
   "source": [
    "# TODO\n",
    "x = np.array([1,3])\n",
    "y = np.array([2,5])\n",
    "z = np.array([-1,-2])\n",
    "\n",
    "z_computed = x - y\n",
    "print(\"Your answer: \", z_computed)\n",
    "print(\"Expecting: \", z)\n",
    "if z.all() == z_computed.all():\n",
    "    print(\"Correct!\")\n",
    "else:\n",
    "    print(\"Try thinking of a numpy function above with x and y that gets you equivalent to z\")"
   ]
  },
  {
   "cell_type": "markdown",
   "metadata": {
    "id": "f4fds8DUULTA"
   },
   "source": [
    "Now, try using the numpy functions to calculate x = ((a+b)*c) - d\n",
    "\n",
    "If you get stuck, try following the order of operations with the parenthesis and compute a+b first and verify by hand, and then proceed to (a+b)*c, and so on."
   ]
  },
  {
   "cell_type": "code",
   "execution_count": 24,
   "metadata": {
    "id": "6JZLAa4ZULTA"
   },
   "outputs": [
    {
     "ename": "NameError",
     "evalue": "name 'answer' is not defined",
     "output_type": "error",
     "traceback": [
      "\u001b[1;31m---------------------------------------------------------------------------\u001b[0m",
      "\u001b[1;31mNameError\u001b[0m                                 Traceback (most recent call last)",
      "Input \u001b[1;32mIn [24]\u001b[0m, in \u001b[0;36m<cell line: 10>\u001b[1;34m()\u001b[0m\n\u001b[0;32m      5\u001b[0m x \u001b[38;5;241m=\u001b[39m np\u001b[38;5;241m.\u001b[39marray([\u001b[38;5;241m3\u001b[39m,\u001b[38;5;241m1\u001b[39m])\n\u001b[0;32m      7\u001b[0m \u001b[38;5;66;03m# TODO\u001b[39;00m\n\u001b[0;32m      8\u001b[0m \u001b[38;5;66;03m#answer = \u001b[39;00m\n\u001b[1;32m---> 10\u001b[0m \u001b[38;5;28mprint\u001b[39m(\u001b[38;5;124m\"\u001b[39m\u001b[38;5;124mYour answer: \u001b[39m\u001b[38;5;124m\"\u001b[39m, \u001b[43manswer\u001b[49m)\n\u001b[0;32m     11\u001b[0m \u001b[38;5;28mprint\u001b[39m(\u001b[38;5;124m\"\u001b[39m\u001b[38;5;124mExpecting: \u001b[39m\u001b[38;5;124m\"\u001b[39m, x)\n\u001b[0;32m     12\u001b[0m \u001b[38;5;28;01mif\u001b[39;00m x\u001b[38;5;241m.\u001b[39mall() \u001b[38;5;241m==\u001b[39m answer\u001b[38;5;241m.\u001b[39mall():\n",
      "\u001b[1;31mNameError\u001b[0m: name 'answer' is not defined"
     ]
    }
   ],
   "source": [
    "\n",
    "a = np.array([1,3])\n",
    "b = np.array([1,1])\n",
    "c = np.array([2,1/2])\n",
    "d = np.array([1,1])\n",
    "x = np.array([3,1])\n",
    "\n",
    "# TODO\n",
    "#answer = \n",
    "\n",
    "print(\"Your answer: \", answer)\n",
    "print(\"Expecting: \", x)\n",
    "if x.all() == answer.all():\n",
    "    print(\"Correct!\")\n",
    "else:\n",
    "    print(\"Try thinking of a which numpy functions above with a,b, and c gets you equivalent to x\")"
   ]
  },
  {
   "cell_type": "markdown",
   "metadata": {
    "id": "ygFOhKs-ULTD"
   },
   "source": [
    "### Axis-based operations"
   ]
  },
  {
   "cell_type": "markdown",
   "metadata": {
    "id": "J8fZg4kBULTD"
   },
   "source": [
    "Now that we've covered 2d indexing, there's some important numpy functions that operate on a particular axis, so let's get hands on with sum()! Many numpy operations including sum, max, argmax, mean, standard deviation operate over a chosen axis of your array. \n",
    "\n",
    "Sum can sum all elements of the 2d array, or it can sum across each row, or sum down each column. \n",
    "\n",
    "Axis 0 corresponds to columns, and axis 1 corresponds to rows, just like indexing. When you apply an operation like sum over axis 0, that means axis 0 is being squashed into length 1 by the sum, max, etc. operation."
   ]
  },
  {
   "cell_type": "code",
   "execution_count": null,
   "metadata": {
    "id": "bQAmWZpIULTE"
   },
   "outputs": [],
   "source": [
    "#numpy arrays have builtin methods to calculate summary statistics such as std. dev., mean, min, max, sum\n",
    "y = np.random.random(9).reshape(3,3)\n",
    "print(\"std:\", y.std())\n",
    "print(\"mean:\", y.mean())\n",
    "print(\"sum:\", y.sum())\n",
    "\n",
    "print()\n",
    "#you can also do these operations with respect to a particular axis\n",
    "print(\"std (rows):\", y.std(axis = 1))\n",
    "print(\"mean (rows):\", y.mean(axis = 1))"
   ]
  },
  {
   "cell_type": "code",
   "execution_count": null,
   "metadata": {
    "id": "fCR8H_KjULTF"
   },
   "outputs": [],
   "source": [
    "# Sum of an array along various axes\n",
    "x = np.array([[1,2],[3,4]])\n",
    "print(x)\n",
    "print()\n",
    "print(np.sum(x))  # Compute sum of all elements; prints \"10\"\n",
    "print()\n",
    "print(np.sum(x, axis=0))  # Compute sum of each column; prints \"[4 6]\"\n",
    "print()\n",
    "print(np.sum(x, axis=1)) # Compute sum of each row; prints \"[3 7]\""
   ]
  },
  {
   "cell_type": "code",
   "execution_count": null,
   "metadata": {
    "id": "W3VMQS1sULTH"
   },
   "outputs": [],
   "source": [
    "# Sum of a vector doesn't need to specify axis since there's only one axis\n",
    "x = np.array([1,2,3])\n",
    "print(x)\n",
    "print(np.sum(x))"
   ]
  },
  {
   "cell_type": "markdown",
   "metadata": {
    "id": "_2T4vm77ULTK"
   },
   "source": [
    "Your turn!"
   ]
  },
  {
   "cell_type": "code",
   "execution_count": null,
   "metadata": {
    "id": "VShs1p0WULTL"
   },
   "outputs": [],
   "source": [
    "# Get hands-on with sum! Guess what the output will be and then run it to confirm\n",
    "x = np.array([[1,2,3],[4,5,6],[3,2,1]])\n",
    "print(\"x = \\n\", x)\n"
   ]
  },
  {
   "cell_type": "code",
   "execution_count": null,
   "metadata": {
    "id": "xIsExRpKULTN"
   },
   "outputs": [],
   "source": [
    "#np.sum(x)\n",
    "# TODO:\n",
    "guess = \n",
    "print(\"Your guess for np.sum(x): \", guess)\n",
    "print(\"Actual = \", np.sum(x))"
   ]
  },
  {
   "cell_type": "code",
   "execution_count": null,
   "metadata": {
    "id": "ZCrBiB-UULTP"
   },
   "outputs": [],
   "source": [
    "#np.sum(x, axis=1)\n",
    "# TODO:\n",
    "guess = \n",
    "print(\"Your guess for np.sum(x, axis=1): \", guess)\n",
    "print(\"Actual = \", np.sum(x, axis=1))"
   ]
  },
  {
   "cell_type": "code",
   "execution_count": null,
   "metadata": {
    "id": "5gSIGgfOULTR",
    "scrolled": true
   },
   "outputs": [],
   "source": [
    "#np.sum(x, axis=0)\n",
    "# TODO:\n",
    "guess =\n",
    "print(\"Your guess for np.sum(x, axis=0): \", guess)\n",
    "print(\"Actual = \", np.sum(x, axis=0))"
   ]
  },
  {
   "cell_type": "markdown",
   "metadata": {
    "id": "lLa2aWmXULTT"
   },
   "source": [
    "### Demo\n",
    "Imagine I want to apply the function $f(x) = x^2 + x -6$ to every emelent of an array"
   ]
  },
  {
   "cell_type": "code",
   "execution_count": null,
   "metadata": {
    "id": "xIPy25Q9ULTT"
   },
   "outputs": [],
   "source": [
    "#First let's try it with python lists\n",
    "import random\n",
    "random.seed(1)\n",
    "h = 1000\n",
    "w = 2\n",
    "\n",
    "def func(x):\n",
    "    return x**2 + x - 6\n",
    "\n",
    "first_list = [[random.randint(-10,10), random.randint(-10,10)] for i in range(h)]\n",
    "print(len(first_list))\n",
    "first_list[:10]\n"
   ]
  },
  {
   "cell_type": "code",
   "execution_count": null,
   "metadata": {
    "id": "fG8um6SXULTV"
   },
   "outputs": [],
   "source": [
    "%%time\n",
    "for i in range(h):\n",
    "    for j in range(w):\n",
    "        first_list[i][j] = func(first_list[i][j])"
   ]
  },
  {
   "cell_type": "code",
   "execution_count": null,
   "metadata": {
    "id": "fW8JRutCULTW"
   },
   "outputs": [],
   "source": [
    "first_list[:10]"
   ]
  },
  {
   "cell_type": "markdown",
   "metadata": {
    "id": "fM0IsjhcULTY"
   },
   "source": [
    "### Now let's do the same thing with numpy arrays"
   ]
  },
  {
   "cell_type": "code",
   "execution_count": null,
   "metadata": {
    "id": "t9YMw5ZtULTY"
   },
   "outputs": [],
   "source": [
    "#By default, rand returns a rnadom number in the range [0,1) - so we normalize to get the values we want\n",
    "array = np.random.rand(h* w).reshape((h,w))\n",
    "array = array*20 - 10\n",
    "print(array[:10])"
   ]
  },
  {
   "cell_type": "code",
   "execution_count": null,
   "metadata": {
    "id": "F-9D7GjyULTa"
   },
   "outputs": [],
   "source": [
    "%%time\n",
    "array = array**2 + array - 6"
   ]
  },
  {
   "cell_type": "code",
   "execution_count": null,
   "metadata": {
    "id": "3ghuAGaDULTc",
    "scrolled": true
   },
   "outputs": [],
   "source": [
    "#Check that it worked\n",
    "print(array[:10])"
   ]
  },
  {
   "cell_type": "markdown",
   "metadata": {
    "id": "22iFHMmfULTg"
   },
   "source": [
    "### It's way faster!"
   ]
  },
  {
   "cell_type": "markdown",
   "metadata": {
    "id": "6RcxIVfKULTh"
   },
   "source": [
    "### Some other useful manipulations\n",
    "A complete list of possible array manipulations can be found here:\n",
    "https://numpy.org/devdocs/reference/routines.array-manipulation.html"
   ]
  },
  {
   "cell_type": "code",
   "execution_count": null,
   "metadata": {
    "id": "YmSyub7xULTh"
   },
   "outputs": [],
   "source": [
    "np.concatenate((x,y), axis = 0)"
   ]
  },
  {
   "cell_type": "code",
   "execution_count": null,
   "metadata": {
    "id": "AXvtt_6JULTj"
   },
   "outputs": [],
   "source": [
    "result = np.concatenate((x,y), axis = 1)\n",
    "result"
   ]
  },
  {
   "cell_type": "code",
   "execution_count": null,
   "metadata": {
    "id": "VZVhshXwULTn"
   },
   "outputs": [],
   "source": [
    "#not an inplace operation, if you want it to persist you need to reassign the variable using =\n",
    "np.transpose(result)"
   ]
  },
  {
   "cell_type": "code",
   "execution_count": null,
   "metadata": {
    "id": "8wpwY3jdULTp"
   },
   "outputs": [],
   "source": [
    "#to invert a matrix use np.linalg.inv\n",
    "x = np.array([[1,1], [1,0]])\n",
    "np.linalg.inv(x)"
   ]
  },
  {
   "cell_type": "markdown",
   "metadata": {
    "id": "lbQF1UXKULTs"
   },
   "source": [
    "### Numpy for Linear Algebra"
   ]
  },
  {
   "cell_type": "markdown",
   "metadata": {
    "id": "hcMsgi8WULTt"
   },
   "source": [
    "#### Dot products"
   ]
  },
  {
   "cell_type": "markdown",
   "metadata": {
    "id": "b5vuWemEULTt"
   },
   "source": [
    "We'll first define vectors v and w. Recall that the dot product of two vectors is calculating by multiplying each corresponding value and then summing the result. Let's start by computing the dot product with a for loop"
   ]
  },
  {
   "cell_type": "code",
   "execution_count": null,
   "metadata": {
    "id": "_C_pqxW-ULTu"
   },
   "outputs": [],
   "source": [
    "v = np.array([1,2,3])\n",
    "w = np.array([4,5,6])\n",
    "\n",
    "print(\"v = \\n\", v)\n",
    "print(\"w = \\n\", w)\n",
    "print(\"expected dot product = 32\")\n",
    "\n",
    "# TODO: compute dot product of v and w with a for loop\n",
    "# note: length of a 1 dimensional array  = len(array) or array.shape[0]\n",
    "\n",
    "forloop_dotproduct = 0\n",
    "for i in range(v.shape[0]):\n",
    "    forloop_dotproduct += v[i]*w[i]\n",
    "\n",
    "print(forloop_dotproduct)\n",
    "\n"
   ]
  },
  {
   "cell_type": "code",
   "execution_count": null,
   "metadata": {
    "id": "3lHARWn5ULTv"
   },
   "outputs": [],
   "source": [
    "# TODO: compute dot product of v and w with numpy functions \n",
    "# hint: addition and summation are the key operations in a dot product\n",
    "\n",
    "np_dotproduct = np.sum(v * w)\n",
    "print(np_dotproduct)\n"
   ]
  },
  {
   "cell_type": "code",
   "execution_count": null,
   "metadata": {
    "id": "gH8agz9EULTx"
   },
   "outputs": [],
   "source": [
    "# TODO: two ways of using np.dot() to compute the same dot product\n",
    "print(v.dot(w))\n",
    "print(np.dot(v, w))"
   ]
  },
  {
   "cell_type": "markdown",
   "metadata": {
    "id": "LCkMb4yEULTz"
   },
   "source": [
    "#### Matrix-vector product"
   ]
  },
  {
   "cell_type": "markdown",
   "metadata": {
    "id": "D3psYFVKULTz"
   },
   "source": [
    "We'll first define matrix M and vector v. Recall that matrix multiplication between a matrix and a vector involves computing a dot product between each row of the matrix M and the vector v. \n",
    "\n",
    "In machine learning, M is typically a matrix of learned parameters where each row corresponds to one of the output predictions, which is a weighted sum of the input features from v. The features v change for every new example but the weights M are applied to every example in training and testing data.\n",
    "\n"
   ]
  },
  {
   "cell_type": "code",
   "execution_count": null,
   "metadata": {
    "id": "6rZ91VoQULT0"
   },
   "outputs": [],
   "source": [
    "M = np.array([[1,2,3],[3,2,1]])\n",
    "v = np.array([4,1,2])\n",
    "\n",
    "print(\"M = \\n\", M)\n",
    "print(\"v = \\n\", v)\n",
    "print(\"Result = \\n[12, 16]\")"
   ]
  },
  {
   "cell_type": "code",
   "execution_count": null,
   "metadata": {
    "id": "g9A2b_wSULT2"
   },
   "outputs": [],
   "source": [
    "# TODO: get each row of M using array slicing\n",
    "# M_row0 = M[?]\n",
    "# M_row1 = M[?]\n",
    "\n",
    "# TODO: compute the dot product of each row of M with v\n",
    "# row0_dotproduct = np.dot(?)\n",
    "# row1_dotproduct = np.dot(?)\n",
    "\n",
    "# answer = \n",
    "print(\"np.dot matrix product = \\n\", answer)"
   ]
  },
  {
   "cell_type": "code",
   "execution_count": null,
   "metadata": {
    "id": "ns4KL-bKULT4"
   },
   "outputs": [],
   "source": [
    "# TODO: get each row of M using array slicing\n",
    "M_row0 = M[0,:]\n",
    "M_row1 = M[1,:]\n",
    "\n",
    "# TODO: compute the dot product of each row of M with v\n",
    "row0_dotproduct = np.dot(M_row0, v)\n",
    "row1_dotproduct = np.dot(M_row1, v)\n",
    "\n",
    "answer = np.array([row0_dotproduct, row1_dotproduct])\n",
    "print(\"np.dot matrix product = \\n\", answer)"
   ]
  },
  {
   "cell_type": "code",
   "execution_count": null,
   "metadata": {
    "id": "3V8Zk7tRULT7"
   },
   "outputs": [],
   "source": [
    "# Use numpy's built in functionality to get the same result\n",
    "print(np.dot(M,v))\n",
    "print(np.matmul(M,v))"
   ]
  },
  {
   "cell_type": "markdown",
   "metadata": {
    "id": "HlkYq9vFULT_"
   },
   "source": [
    "#### Matrix-Matrix multiplication"
   ]
  },
  {
   "cell_type": "code",
   "execution_count": null,
   "metadata": {
    "id": "Pi86gN1iULT_"
   },
   "outputs": [],
   "source": [
    "A = np.array([[1,2],[3,4]])\n",
    "B = np.array([[4,3],[2,1]])\n",
    "\n",
    "print(\"A = \\n\", A)\n",
    "print(\"B = \\n\", B)"
   ]
  },
  {
   "cell_type": "code",
   "execution_count": null,
   "metadata": {
    "id": "ZUa0fTFLULUC"
   },
   "outputs": [],
   "source": [
    "upper_left = np.dot(A[0,:], B[:,0])\n",
    "print(\"upper left = \", upper_left)\n",
    "\n",
    "upper_right = np.dot(A[0,:], B[:,1])\n",
    "print(\"upper right = \", upper_right)\n",
    "\n",
    "lower_left = np.dot(A[1,:], B[:,0])\n",
    "print(\"lower left = \", lower_left)\n",
    "\n",
    "lower_right = np.dot(A[1,:], B[:,1])\n",
    "print(\"lower right = \", lower_right)"
   ]
  },
  {
   "cell_type": "code",
   "execution_count": null,
   "metadata": {
    "id": "QGYufj5uULUF"
   },
   "outputs": [],
   "source": [
    "print(np.dot(A,B))\n",
    "print(np.matmul(A,B))"
   ]
  },
  {
   "cell_type": "markdown",
   "metadata": {
    "id": "v8IOLHq5y9KB"
   },
   "source": [
    "## New content!"
   ]
  },
  {
   "cell_type": "markdown",
   "metadata": {
    "id": "2YZYE-lvyr27"
   },
   "source": [
    "### Numpy arrays, references, and *copies*\n",
    "You may have noticed that it can be tricky to manipulate arrays in python because by default, python passed objects as references. In this section, we'll explain this behavior, and giving some debugging tools to use when confronted with related issues."
   ]
  },
  {
   "cell_type": "code",
   "execution_count": null,
   "metadata": {
    "id": "bmo31qLVyr28"
   },
   "outputs": [],
   "source": [
    "array = np.linspace(1, 10, 10)\n",
    "array\n"
   ]
  },
  {
   "cell_type": "code",
   "execution_count": null,
   "metadata": {
    "id": "jAMpTZcVyr3A"
   },
   "outputs": [],
   "source": [
    "dup = array\n",
    "dup"
   ]
  },
  {
   "cell_type": "code",
   "execution_count": null,
   "metadata": {
    "id": "ajIVsGUhyr3C"
   },
   "outputs": [],
   "source": [
    "array[0] = 100\n",
    "dup"
   ]
  },
  {
   "cell_type": "code",
   "execution_count": null,
   "metadata": {
    "id": "o1iBWwNOyr3E"
   },
   "outputs": [],
   "source": [
    "print(id(array))\n",
    "print(id(dup))"
   ]
  },
  {
   "cell_type": "markdown",
   "metadata": {
    "id": "8L1YkuhDyr3G"
   },
   "source": [
    "Notice that the dup and array point to the same object!\n",
    "\n",
    "How would we fix this?\n",
    "\n",
    "Use the copy library, or np.array.copy\n",
    "\n",
    "IMPORTANT: Using the slicing syntax [:] doesn't always work"
   ]
  },
  {
   "cell_type": "code",
   "execution_count": null,
   "metadata": {
    "id": "UNS2wHFhyr3H"
   },
   "outputs": [],
   "source": [
    "#slicing\n",
    "array = np.linspace(1, 10, 10)\n",
    "dup = array[:]\n",
    "print(id(array))\n",
    "print(id(dup))\n",
    "array[0] = 100\n",
    "dup"
   ]
  },
  {
   "cell_type": "code",
   "execution_count": null,
   "metadata": {
    "id": "Miu1W4elyr3J"
   },
   "outputs": [],
   "source": [
    "#using copy\n",
    "import copy\n",
    "array = np.linspace(1, 10, 10)\n",
    "dup = copy.copy(array)\n",
    "print(id(array))\n",
    "print(id(dup))\n",
    "array[0] = 100\n",
    "dup"
   ]
  },
  {
   "cell_type": "code",
   "execution_count": null,
   "metadata": {
    "id": "Z6pAxyF3yr3M"
   },
   "outputs": [],
   "source": [
    "#using deep copy\n",
    "import copy\n",
    "array = np.linspace(1, 10, 10)\n",
    "dup = copy.deepcopy(array)\n",
    "print(id(array))\n",
    "print(id(dup))\n",
    "array[0] = 100\n",
    "dup"
   ]
  },
  {
   "cell_type": "markdown",
   "metadata": {
    "id": "ju_5Fwk5yr3O"
   },
   "source": [
    "Beware of copy vs. deepcopy!\n",
    "\n",
    "https://docs.python.org/2/library/copy.html\n",
    "<img src=\"shallow_copy.png\">\n",
    "<img src=\"deep_copy.png\">"
   ]
  },
  {
   "cell_type": "code",
   "execution_count": null,
   "metadata": {
    "id": "BZxkhZltyr3O"
   },
   "outputs": [],
   "source": [
    "#numpy arrays also have a builtin copy function\n",
    "array = np.linspace(1, 10, 10)\n",
    "dup = array.copy()\n",
    "print(id(array))\n",
    "print(id(dup))\n",
    "array[0] = 100\n",
    "dup"
   ]
  },
  {
   "cell_type": "markdown",
   "metadata": {
    "id": "uYoEKYilyr3T"
   },
   "source": [
    "#### Let's try it with multidimensional arrays"
   ]
  },
  {
   "cell_type": "markdown",
   "metadata": {
    "id": "jQITuV4Wyr3U"
   },
   "source": [
    "Copy works!"
   ]
  },
  {
   "cell_type": "code",
   "execution_count": null,
   "metadata": {
    "id": "XiZ0C7HJyr3U"
   },
   "outputs": [],
   "source": [
    "import copy\n",
    "array = np.array(range(9)).reshape(3,3)\n",
    "array = np.zeros((3,3))\n",
    "array0 = [0,1,2]; array[0] = array0\n",
    "array1 = [3,4,5]; array[1] = array1\n",
    "array2 = [6,7,8]; array[2] = array2\n",
    "print(array)\n",
    "\n",
    "dup = copy.copy(array)\n",
    "array[0] = [0,0,0]\n",
    "\n",
    "print(array)\n",
    "print(dup)\n"
   ]
  },
  {
   "cell_type": "markdown",
   "metadata": {
    "id": "W2iyuEl7yr3W"
   },
   "source": [
    "Numpy's native copy works!"
   ]
  },
  {
   "cell_type": "code",
   "execution_count": null,
   "metadata": {
    "id": "OP8d04quyr3X"
   },
   "outputs": [],
   "source": [
    "array = np.array(range(9)).reshape(3,3)\n",
    "print(array)\n",
    "\n",
    "dup = array.copy()\n",
    "array[0] = [0,0,0]\n",
    "\n",
    "print(array)\n",
    "print(dup)\n"
   ]
  },
  {
   "cell_type": "markdown",
   "metadata": {
    "id": "QD4Ymp0vULVP"
   },
   "source": [
    "### Sorting\n"
   ]
  },
  {
   "cell_type": "code",
   "execution_count": null,
   "metadata": {
    "id": "rQmZF6GsULVP"
   },
   "outputs": [],
   "source": [
    "array = np.random.random(10)\n",
    "print(\"array = \\n\", array)\n",
    "print(\"increasing sort = \\n\", np.sort(array))\n",
    "print(\"decreasing sort = \\n\", np.sort(array)[::-1])\n",
    "\n",
    "print(\"\\ndecreasing sorted indices = \\n\", np.argsort(array)[::-1])\n",
    "print(\"top 3 = \\n\", array[np.argsort(array)[::-1][:3]])\n"
   ]
  },
  {
   "cell_type": "markdown",
   "metadata": {
    "id": "GpBcH_Z-ULUm"
   },
   "source": [
    "### Reshaping"
   ]
  },
  {
   "cell_type": "code",
   "execution_count": null,
   "metadata": {
    "id": "48JX7pR2ULUn"
   },
   "outputs": [],
   "source": [
    "#when your reshape, by default you fill the new array by rows\n",
    "x = np.linspace(1, 12, 6)\n",
    "print(x)\n",
    "x2 = x.reshape((3,2)) #does not reshape in place!\n",
    "x2"
   ]
  },
  {
   "cell_type": "markdown",
   "metadata": {
    "id": "vPiPct5QULUM"
   },
   "source": [
    "### Broadcasting\n",
    "The term broadcasting refers to how numpy treats doing arithmetic operations on arrays of different shapes.\n",
    "When operating on two arrays, NumPy compares their shapes element-wise. Two dimensions are compatible when\n",
    "* they are equal, or\n",
    "* one of them is 1\n",
    "\n",
    "If the dimensional are different, but one of them is 1, then numpy will apply the operation to each column on that axis\n",
    "\n",
    "Check out the documentation for more details: https://numpy.org/doc/stable/user/basics.broadcasting.html"
   ]
  },
  {
   "cell_type": "markdown",
   "metadata": {
    "id": "jRigIqHHWold"
   },
   "source": [
    "Broadcasting with scalars is pretty intuitive:"
   ]
  },
  {
   "cell_type": "code",
   "execution_count": null,
   "metadata": {
    "id": "-KNNpUolWq78"
   },
   "outputs": [],
   "source": [
    "x = np.array([[0,1,2]])\n",
    "print(\"x = \", x.shape, \"array:\\n\", x)\n",
    "print(\"x+1 = \", (x+1).shape, \"array:\\n\", x+1)\n",
    "\n",
    "y = np.array(range(9)).reshape(3,3)\n",
    "print(\"\\n\\ny = \", y.shape, \"array:\\n\", y)\n",
    "print(\"y+1 = \", (y+1).shape, \"array:\\n\", y+1)\n"
   ]
  },
  {
   "cell_type": "markdown",
   "metadata": {
    "id": "6lxdZ5heghkS"
   },
   "source": [
    "Broadcasting with scalars is really useful for normalization!"
   ]
  },
  {
   "cell_type": "code",
   "execution_count": null,
   "metadata": {
    "id": "q3Ph9PuqglQv"
   },
   "outputs": [],
   "source": [
    "x = np.random.rand(20,20)\n",
    "#print(\"x = \", x.shape, \"array:\\n\", x)\n",
    "print(\"np.mean(x) = \", np.mean(x), \"or x.mean() = \", x.mean())\n",
    "print(\"np.std(x) = \", np.std(x), \"or x.std() = \", x.std())\n",
    "\n",
    "zero_mean_x = x - x.mean()\n",
    "print(\"\\nzero_mean_x.mean() = \", zero_mean_x.mean())\n",
    "\n",
    "one_std_x = x/x.std()\n",
    "print(\"\\none_std_x.std() = \", one_std_x.std())\n",
    "\n",
    "normalized_x = (x - x.mean())/x.std()\n",
    "print(\"\\nnormalized_x.mean() = \", normalized_x.mean())\n",
    "print(\"normalized_x.std() = \", normalized_x.std())"
   ]
  },
  {
   "cell_type": "markdown",
   "metadata": {
    "id": "TpVpm53MXJGA"
   },
   "source": [
    "You can also broadcast with vectors! We'll try a column vector first:"
   ]
  },
  {
   "cell_type": "code",
   "execution_count": null,
   "metadata": {
    "id": "QMHJJz0pVtU3"
   },
   "outputs": [],
   "source": [
    "x = np.array([range(9)]).reshape(3,3)\n",
    "print(\"x = \", x.shape, \"array:\\n\", x)\n",
    "\n",
    "y = np.array([range(3)]).reshape(3,1)\n",
    "print(\"y = \", y.shape, \"array:\\n\", y)\n",
    "\n",
    "print(\"x+y = ???\")\n"
   ]
  },
  {
   "cell_type": "code",
   "execution_count": null,
   "metadata": {
    "id": "HOcO_HP8WZhy"
   },
   "outputs": [],
   "source": [
    "print(\"x+y = \\n\", x+y)\n",
    "print(\"diff = (x+y) - x = \\n\", (x+y) - x)"
   ]
  },
  {
   "cell_type": "markdown",
   "metadata": {
    "id": "-iVEaziUY0Tz"
   },
   "source": [
    "Now let's broadcast with a row vector"
   ]
  },
  {
   "cell_type": "code",
   "execution_count": null,
   "metadata": {
    "id": "geR8uwl4WVwj"
   },
   "outputs": [],
   "source": [
    "x = np.array([range(9)]).reshape(3,3)\n",
    "print(\"x = \", x.shape, \"array:\\n\", x)\n",
    "\n",
    "z = np.array([range(3)]).reshape(1,3)\n",
    "print(\"z = \", z.shape, \"array:\\n\", z)\n",
    "\n",
    "print(\"x+z = ???\")\n"
   ]
  },
  {
   "cell_type": "code",
   "execution_count": null,
   "metadata": {
    "id": "nKmz5iTBWf1_"
   },
   "outputs": [],
   "source": [
    "print(\"x+z = \\n\", x+z)\n",
    "print(\"diff = (x+z) - x = \\n\", (x+z) - x)"
   ]
  },
  {
   "cell_type": "markdown",
   "metadata": {
    "id": "GdDwNXxsXdFr"
   },
   "source": [
    "Watch out for one dimensional arrays! They'll broadcast like row vectors"
   ]
  },
  {
   "cell_type": "code",
   "execution_count": null,
   "metadata": {
    "id": "qolj7lFXXcDn"
   },
   "outputs": [],
   "source": [
    "x = np.array([range(12)]).reshape(4,3)\n",
    "print(\"x = \", x.shape, \"array:\\n\", x)\n",
    "\n",
    "y = np.array([0,1,2])\n",
    "print(\"y = \", y.shape, \"array:\\n\", y)\n",
    "\n",
    "z = np.array([0,1,2,3])\n",
    "print(\"z = \", z.shape, \"array:\\n\", z)\n",
    "\n",
    "print(\"x+y = ???\")\n",
    "\n",
    "print(\"x+z = ???\")"
   ]
  },
  {
   "cell_type": "markdown",
   "metadata": {
    "id": "0r6uQIlSYWOc"
   },
   "source": [
    "Notice that x - (x+y) is not the same as just y because of broadcasting!"
   ]
  },
  {
   "cell_type": "code",
   "execution_count": null,
   "metadata": {
    "id": "c2xw11N5X7gw"
   },
   "outputs": [],
   "source": [
    "print(\"x+y = \\n\", x+y)\n",
    "print(\"diff = (x+y) - x = \\n\", (x+y) - x)"
   ]
  },
  {
   "cell_type": "code",
   "execution_count": null,
   "metadata": {
    "id": "mjTxKULIX87s"
   },
   "outputs": [],
   "source": [
    "print(\"x+z = \\n\", x+z)\n",
    "print(\"diff = (x+z) - x = \\n\", (x+z) - x)"
   ]
  },
  {
   "cell_type": "markdown",
   "metadata": {
    "id": "-OQ0UQZAaEE3"
   },
   "source": [
    "Broadcasting can also produce a different shape than either input:"
   ]
  },
  {
   "cell_type": "code",
   "execution_count": null,
   "metadata": {
    "id": "sJZPSQymaN0h"
   },
   "outputs": [],
   "source": [
    "x = np.array([[1,2,3]])\n",
    "print(\"x = \", x.shape, \"array:\\n\", x)\n",
    "\n",
    "y = np.array([[4,5,6]])\n",
    "print(\"y = \", y.shape, \"array:\\n\", y)\n",
    "print(\"y.T = \", y.T.shape, \"array:\\n\", y.T)\n",
    "\n",
    "print(\"x*y.T = ???\")\n"
   ]
  },
  {
   "cell_type": "code",
   "execution_count": null,
   "metadata": {
    "id": "fgLQwXYgasRC"
   },
   "outputs": [],
   "source": [
    "print(\"x*y.T = \\n\", x*(y.T))\n"
   ]
  },
  {
   "cell_type": "markdown",
   "metadata": {
    "id": "_bR-Vf-Dbv_-"
   },
   "source": [
    "We can also use 1 dimensional arrays for outer products, since they *mostly* act as row vectors"
   ]
  },
  {
   "cell_type": "code",
   "execution_count": null,
   "metadata": {
    "id": "OQF2hVuSbI7v"
   },
   "outputs": [],
   "source": [
    "x = np.array([1,2,3])\n",
    "print(\"x = \", x.shape, \"array:\\n\", x)\n",
    "\n",
    "y = np.array([[4,5,6]]).T\n",
    "print(\"y = \", y.shape, \"array:\\n\", y)\n",
    "\n",
    "print(\"x*y = ???\")"
   ]
  },
  {
   "cell_type": "code",
   "execution_count": null,
   "metadata": {
    "id": "fmF5-8zObq4b"
   },
   "outputs": [],
   "source": [
    "x*y"
   ]
  },
  {
   "cell_type": "code",
   "execution_count": null,
   "metadata": {
    "id": "N4-E07DjcAsn"
   },
   "outputs": [],
   "source": [
    "x = np.array([1,2,3])\n",
    "print(\"x = \", x.shape, \"array:\\n\", x)\n",
    "\n",
    "y = np.array([[4,5,6]])\n",
    "print(\"y = \", y.shape, \"array:\\n\", y)\n",
    "\n",
    "print(\"x*y = ???\")"
   ]
  },
  {
   "cell_type": "code",
   "execution_count": null,
   "metadata": {
    "id": "ad2EGA94cHdX"
   },
   "outputs": [],
   "source": [
    "x*y"
   ]
  },
  {
   "cell_type": "markdown",
   "metadata": {
    "id": "chOw21wLULUR"
   },
   "source": [
    "### Real world example of why broadcasting is useful"
   ]
  },
  {
   "cell_type": "code",
   "execution_count": null,
   "metadata": {
    "id": "x720NmmsULUS"
   },
   "outputs": [],
   "source": [
    "# Suppose we have a matrix where we want to normalize the rows to have mean zero\n",
    "matrix = 10*np.random.rand(4,5)\n",
    "matrix"
   ]
  },
  {
   "cell_type": "code",
   "execution_count": null,
   "metadata": {
    "id": "EizC_LZyULUV"
   },
   "outputs": [],
   "source": [
    "row_means = matrix.mean(axis = 1).reshape((4,1))\n",
    "row_means"
   ]
  },
  {
   "cell_type": "code",
   "execution_count": null,
   "metadata": {
    "id": "HCwAt_dzULUX"
   },
   "outputs": [],
   "source": [
    "matrix_zero_mean = matrix - row_means\n",
    "print(\"matrix_zero_mean = \\n\", matrix_zero_mean)\n",
    "print(\"matrix_zero_mean.mean(axis=1) = \\n\", matrix_zero_mean.mean(axis = 1))"
   ]
  },
  {
   "cell_type": "markdown",
   "metadata": {
    "id": "5ebko2h8ULUZ"
   },
   "source": [
    "### Using boolean masks\n",
    "In numpy, when you compare two arrays, you get a boolean mask as the output.  You can then use this boolean mask to grab specific values in an array."
   ]
  },
  {
   "cell_type": "code",
   "execution_count": null,
   "metadata": {
    "id": "SAzCJgRrULUb"
   },
   "outputs": [],
   "source": [
    "array = np.array(range(20)).reshape((4,5))\n",
    "print(\"array = \", array.shape, array.dtype, \"array: \\n\", array)\n",
    "\n",
    "filtered = array > 10\n",
    "print(\"array > 10 = \", filtered.shape, filtered.dtype, \"array: \\n\", filtered)"
   ]
  },
  {
   "cell_type": "markdown",
   "metadata": {
    "id": "qKLuivj5dZsp"
   },
   "source": [
    "You can retrieve values in the array based on this mask!"
   ]
  },
  {
   "cell_type": "code",
   "execution_count": null,
   "metadata": {
    "id": "1a-vL0OrULUd"
   },
   "outputs": [],
   "source": [
    "selected = array[filtered]\n",
    "print(\"array[filtered] = \", selected.shape, selected.dtype, \"array: \\n\", selected)"
   ]
  },
  {
   "cell_type": "markdown",
   "metadata": {
    "id": "-gXD3WMed7Mc"
   },
   "source": [
    "Or you can combine multiple boolean statements"
   ]
  },
  {
   "cell_type": "code",
   "execution_count": null,
   "metadata": {
    "id": "zQjal2rBULUf"
   },
   "outputs": [],
   "source": [
    "#you can combine boolean statements for more complicated operations\n",
    "mask = (array < 5) | (array > 15)\n",
    "print(\"mask = \", mask.shape, mask.dtype, \"array: \\n\", mask)\n",
    "\n",
    "selected = array[mask]\n",
    "print(\"selected = \", selected.shape, selected.dtype, \"array: \\n\", selected)"
   ]
  },
  {
   "cell_type": "markdown",
   "metadata": {
    "id": "zO_SLIq2efKJ"
   },
   "source": [
    "Can you select the elements of array that are multiples of 5 but greater than (exclusive) 5?"
   ]
  },
  {
   "cell_type": "code",
   "execution_count": null,
   "metadata": {
    "id": "LCtD1gnNen2R"
   },
   "outputs": [],
   "source": [
    "mask = np.zeros_like(array, dtype=bool)\n",
    "print(\"mask = \", mask.shape, mask.dtype, \"array: \\n\", mask)\n",
    "\n",
    "selected = array[mask]\n",
    "print(\"selected = \", selected.shape, selected.dtype, \"array: \\n\", selected)"
   ]
  },
  {
   "cell_type": "code",
   "execution_count": null,
   "metadata": {
    "id": "LAmhv8tyeARX"
   },
   "outputs": [],
   "source": [
    "### SOLUTION ###\n",
    "#you can combine boolean statements for more complicated operations\n",
    "mask = (array > 5) & (array % 5 == 0)\n",
    "print(\"mask = \", mask.shape, mask.dtype, \"array: \\n\", mask)\n",
    "\n",
    "selected = array[mask]\n",
    "print(\"selected = \", selected.shape, selected.dtype, \"array: \\n\", selected)"
   ]
  },
  {
   "cell_type": "markdown",
   "metadata": {
    "id": "R8fqkbOZe5id"
   },
   "source": [
    "You can use selected elements from this boolean mask to change the original array. Try to take the multiples of 5 greater than 5 and multiply them by 10"
   ]
  },
  {
   "cell_type": "code",
   "execution_count": null,
   "metadata": {
    "id": "i3TkzlTrfiZ_"
   },
   "outputs": [],
   "source": [
    "#you can combine boolean statements for more complicated operations\n",
    "mask = np.zeros_like(array, dtype=bool)\n",
    "print(\"mask = \", mask.shape, mask.dtype, \"array: \\n\", mask)\n",
    "\n",
    "new_array = np.copy(array)\n",
    "print(\"new_array = \", new_array.shape, new_array.dtype, \"array: \\n\", new_array)\n",
    "\n",
    "selected = new_array[mask]\n",
    "print(\"selected = \", selected.shape, selected.dtype, \"array: \\n\", selected)\n"
   ]
  },
  {
   "cell_type": "code",
   "execution_count": null,
   "metadata": {
    "id": "y2ytTNeQfFWM"
   },
   "outputs": [],
   "source": [
    "### SOLUTION ###\n",
    "#you can combine boolean statements for more complicated operations\n",
    "mask = (array > 5) & (array % 5 == 0)\n",
    "print(\"mask = \", mask.shape, mask.dtype, \"array: \\n\", mask)\n",
    "\n",
    "new_array = np.copy(array)\n",
    "new_array[mask] *= 10\n",
    "print(\"new_array = \", new_array.shape, new_array.dtype, \"array: \\n\", new_array)\n",
    "\n",
    "selected = new_array[mask]\n",
    "print(\"selected = \", selected.shape, selected.dtype, \"array: \\n\", selected)\n"
   ]
  },
  {
   "cell_type": "markdown",
   "metadata": {
    "id": "m3aJ-xeik3TO"
   },
   "source": [
    "We can do similar operations with np.where()!\n",
    "https://numpy.org/doc/stable/reference/generated/numpy.where.html\n",
    "\n",
    "Let's try to also select the elements greater than 5"
   ]
  },
  {
   "cell_type": "code",
   "execution_count": null,
   "metadata": {
    "id": "UJDT_IHameuM"
   },
   "outputs": [],
   "source": [
    "array = np.array(range(20)).reshape((4,5))\n",
    "print(\"array = \", array.shape, array.dtype, \"array: \\n\", array)\n",
    "\n",
    "\n",
    "#indices = np.where()\n",
    "#print(\"indices = \", type(indices), \"length \", len(indices))\n",
    "#print(\"indices[0] = \", indices[0].shape, indices[0].dtype, \"array: \\n\", indices[0])\n",
    "#print(\"indices[1] = \", indices[1].shape, indices[1].dtype, \"array: \\n\", indices[1])\n",
    "\n",
    "selected = array[indices]\n",
    "print(\"selected = \", selected.shape, selected.dtype, \"array: \\n\", selected)\n"
   ]
  },
  {
   "cell_type": "code",
   "execution_count": null,
   "metadata": {
    "id": "n3jACwJHk5tp"
   },
   "outputs": [],
   "source": [
    "### SOLUTION ###\n",
    "array = np.array(range(20)).reshape((4,5))\n",
    "print(\"array = \", array.shape, array.dtype, \"array: \\n\", array)\n",
    "\n",
    "indices = np.where(array > 5)\n",
    "print(\"indices = \", type(indices), \"length \", len(indices))\n",
    "print(\"indices[0] = \", indices[0].shape, indices[0].dtype, \"array: \\n\", indices[0])\n",
    "print(\"indices[1] = \", indices[1].shape, indices[1].dtype, \"array: \\n\", indices[1])\n",
    "\n",
    "selected = array[indices]\n",
    "print(\"selected = \", selected.shape, selected.dtype, \"array: \\n\", selected)\n",
    "\n",
    "\n",
    "mask = array > 5\n",
    "selected = array[mask]\n",
    "selected"
   ]
  },
  {
   "cell_type": "markdown",
   "metadata": {
    "id": "bRARonHwnDYG"
   },
   "source": [
    "np.where() with 3 arguments acts differently: you define a boolean mask with your first argument, and the second argument defines the array you copy from if the condition is true, and the third argument defines the array you copy from if the condition is false.\n",
    "\n",
    "Let's use this to round everything less than or equal to 5 to zero, and everything greater than 5 to 1!"
   ]
  },
  {
   "cell_type": "code",
   "execution_count": null,
   "metadata": {
    "id": "v92DFBRSnovp"
   },
   "outputs": [],
   "source": [
    "array = np.array(range(20)).reshape((4,5))\n",
    "print(\"array = \", array.shape, array.dtype, \"array: \\n\", array)\n",
    "\n",
    "new_array = np.zeros_like(array)\n",
    "print(\"new_array = \", new_array.shape, new_array.dtype, \"array: \\n\", new_array)\n",
    "\n"
   ]
  },
  {
   "cell_type": "code",
   "execution_count": null,
   "metadata": {
    "id": "-y_gZKpPnasp"
   },
   "outputs": [],
   "source": [
    "### SOLUTION ###\n",
    "array = np.array(range(20)).reshape((4,5))\n",
    "print(\"array = \", array.shape, array.dtype, \"array: \\n\", array)\n",
    "\n",
    "new_array = np.where(array > 5, 1, 0)\n",
    "print(\"new_array = \", new_array.shape, new_array.dtype, \"array: \\n\", new_array)\n",
    "\n"
   ]
  },
  {
   "cell_type": "markdown",
   "metadata": {
    "id": "-dm8Nqv7n0Ao"
   },
   "source": [
    "We just used scalars for the 2nd and 3rd arguments, but you can also use arrays! Let's replace all elements less than or equal to 5 with their squares and replace all elements greater than 5 with -1*array"
   ]
  },
  {
   "cell_type": "code",
   "execution_count": null,
   "metadata": {
    "id": "7jOgfoC6o-20"
   },
   "outputs": [],
   "source": [
    "array = np.array(range(20)).reshape((4,5))\n",
    "print(\"array = \", array.shape, array.dtype, \"array: \\n\", array)\n",
    "#squared_array = \n",
    "#print(\"squared_array = \", squared_array.shape, squared_array.dtype, \"array: \\n\", squared_array)\n",
    "#minus_array = \n",
    "#print(\"minus_array = \", minus_array.shape, minus_array.dtype, \"array: \\n\", minus_array)\n",
    "\n",
    "\n",
    "#new_array = np.where()\n",
    "#print(\"\\nnew_array = \", new_array.shape, new_array.dtype, \"array: \\n\", new_array)\n",
    "\n"
   ]
  },
  {
   "cell_type": "code",
   "execution_count": null,
   "metadata": {
    "id": "fmLhX6OMn6Lo"
   },
   "outputs": [],
   "source": [
    "### SOLUTION ###\n",
    "array = np.array(range(20)).reshape((4,5))\n",
    "print(\"array = \", array.shape, array.dtype, \"array: \\n\", array)\n",
    "squared_array = array**2\n",
    "print(\"squared_array = \", squared_array.shape, squared_array.dtype, \"array: \\n\", squared_array)\n",
    "minus_array = -array\n",
    "print(\"minus_array = \", minus_array.shape, minus_array.dtype, \"array: \\n\", minus_array)\n",
    "\n",
    "\n",
    "new_array = np.where(array > 5, minus_array, squared_array)\n",
    "print(\"\\nnew_array = \", new_array.shape, new_array.dtype, \"array: \\n\", new_array)\n",
    "\n"
   ]
  },
  {
   "cell_type": "markdown",
   "metadata": {
    "id": "7_QMubUfULVR"
   },
   "source": [
    "### Linear Algebra\n",
    "We can use the np.linalg module to do a lot of linear algebra stuff withpretty clean syntax.\n",
    "\n",
    "For example, say we wanted to solve the linear system $$ Ax = b$$."
   ]
  },
  {
   "cell_type": "code",
   "execution_count": null,
   "metadata": {
    "id": "Y6QB0N8UULVR"
   },
   "outputs": [],
   "source": [
    "A = np.array([[1, 1], [2, 1]])\n",
    "b = np.array([[1], [0]])\n",
    "#This function takes parameters A, b, and returns x such that Ax =b. \n",
    "x = np.linalg.solve(A, b)\n",
    "print(\"solution = x = \\n\", x)  \n",
    "print(\"Ax = \\n\", np.dot(A,x))\n",
    "print(\"b = \\n\", b)            "
   ]
  },
  {
   "cell_type": "markdown",
   "metadata": {
    "id": "VC83MqVnULVS"
   },
   "source": [
    "#### How about more complicated stuff?\n",
    "Imagine trying to find a line of best fit.\n",
    "\n",
    "Linear regression finds the \"line of best fit\" by minimizing the residual sum of squares.\n",
    "\n",
    "If we have n datapoints $\\{(x_1, y_1), ... ,(x_n, y_n)\\}$, the objective function takes the form\n",
    "$$loss(X) = \\Sigma_{i = 1}^n (y_i - f(x_i))^2$$ where $$f(x_i) = \\theta_0 + \\theta_1 x_1 + ... +\\theta_n x_n$$\n",
    "\n",
    "It turns out the parameters such that the loss function is minimized are given by the closed form solution\n",
    "\n",
    "$$\\theta = (X^T X)^{-1} X^T y$$\n",
    "\n",
    "Let's see it in action!!!"
   ]
  },
  {
   "cell_type": "code",
   "execution_count": null,
   "metadata": {
    "id": "E3Mvyu54JW-Z"
   },
   "outputs": [],
   "source": [
    "import matplotlib.pyplot as plt\n"
   ]
  },
  {
   "cell_type": "code",
   "execution_count": null,
   "metadata": {
    "id": "gWRxIkqpULVT"
   },
   "outputs": [],
   "source": [
    "x = np.concatenate((np.linspace(1, 5, 10).reshape(10, 1), np.ones(10).reshape(10, 1)), axis = 1)\n",
    "y = x[:,0].copy() + 2*np.random.rand(10) - 0.5\n",
    "plt.scatter(x[:,0], y)"
   ]
  },
  {
   "cell_type": "code",
   "execution_count": null,
   "metadata": {
    "id": "BlBx_7C9ULVU"
   },
   "outputs": [],
   "source": [
    "theta = np.linalg.lstsq(x, y, rcond=None)[0]\n",
    "print(theta)"
   ]
  },
  {
   "cell_type": "code",
   "execution_count": null,
   "metadata": {
    "id": "xYy03q7WULVV"
   },
   "outputs": [],
   "source": [
    "plt.scatter(x[:,0], y)\n",
    "plt.plot(x[:,0], x[:,0]*theta[0] + theta[1])"
   ]
  },
  {
   "cell_type": "code",
   "execution_count": null,
   "metadata": {
    "id": "qKwi7rjhULVW"
   },
   "outputs": [],
   "source": [
    "theta = np.linalg.inv(x.T.dot(x)).dot(x.T).dot(y)\n",
    "print(theta)"
   ]
  },
  {
   "cell_type": "markdown",
   "metadata": {
    "id": "5SsKMBYVpNZy"
   },
   "source": [
    "How does this relate to transformations? Let's try!\n",
    "\n",
    "Our slides on transformations: https://drive.google.com/file/d/1isX1q9X31akdeIJwdbP5xNqn78xzhlXb/view"
   ]
  },
  {
   "cell_type": "code",
   "execution_count": null,
   "metadata": {
    "colab": {
     "base_uri": "https://localhost:8080/",
     "height": 130
    },
    "executionInfo": {
     "elapsed": 480,
     "status": "error",
     "timestamp": 1602294628192,
     "user": {
      "displayName": "Austin Osceola Narcomey",
      "photoUrl": "",
      "userId": "13958115673227118223"
     },
     "user_tz": 420
    },
    "id": "VyuvQ2bKzwDY",
    "outputId": "6519ecd6-f496-4c33-cfcf-3b563c1d0997"
   },
   "outputs": [],
   "source": [
    "x = np.random.rand(10,2)*10\n",
    "print(\"x = \", x.shape, x.dtype, \"array: \\n\", x)\n",
    "# Homogeneous coordinates!\n",
    "x_homogeneous = \n",
    "print(\"x_homogeneous = \", x_homogeneous.shape, x_homogeneous.dtype, \"array: \\n\", x_homogeneous)\n",
    "\n",
    "translation = np.array([3, -5])\n",
    "scaling = 2\n",
    "\n",
    "y = (x *scaling) + translation\n",
    "# Add noise\n",
    "y_noisy = y + np.random.rand(10,2)*0\n",
    "print(\"\\ny_noisy = \", y_noisy.shape, y_noisy.dtype, \"array: \\n\", y_noisy)\n",
    "# Homogeneous coordinates!\n",
    "y_noisy_homogeneous = \n",
    "print(\"y_noisy_homogeneous = \", y_noisy_homogeneous.shape, y_noisy_homogeneous.dtype, \"array: \\n\", y_noisy_homogeneous)\n",
    "\n",
    "# Fit with lstsq!\n",
    "H = np.linalg.lstsq(x_homogeneous, y_noisy_homogeneous, rcond=None)[0]\n",
    "print(\"\\nH = \", H.shape, H.dtype, \"array: \\n\", H)\n",
    "error = np.round(np.dot(x_homogeneous, H) - y_noisy_homogeneous, decimals=8)\n",
    "print(\"Error = np.dot(x_homogeneous,H) - y_noisy_homogeneous = \\n\", error)\n",
    "\n"
   ]
  },
  {
   "cell_type": "code",
   "execution_count": null,
   "metadata": {
    "colab": {
     "base_uri": "https://localhost:8080/",
     "height": 1000
    },
    "executionInfo": {
     "elapsed": 371,
     "status": "ok",
     "timestamp": 1602294628461,
     "user": {
      "displayName": "Austin Osceola Narcomey",
      "photoUrl": "",
      "userId": "13958115673227118223"
     },
     "user_tz": 420
    },
    "id": "31nz_WWjpRbV",
    "outputId": "51cac42f-b67f-4774-b453-8170ca6ffc07"
   },
   "outputs": [],
   "source": [
    "### SOLUTION ###\n",
    "x = np.random.rand(10,2)*10\n",
    "print(\"x = \", x.shape, x.dtype, \"array: \\n\", x)\n",
    "# Homogeneous coordinates!\n",
    "x_homogeneous = np.concatenate([x, np.ones((10,1))], axis=1)\n",
    "print(\"x_homogeneous = \", x_homogeneous.shape, x_homogeneous.dtype, \"array: \\n\", x_homogeneous)\n",
    "\n",
    "translation = np.array([3, -5])\n",
    "scaling = 2\n",
    "\n",
    "y = (x *scaling) + translation\n",
    "# Add noise\n",
    "y_noisy = y + np.random.rand(10,2)*0\n",
    "print(\"\\ny_noisy = \", y_noisy.shape, y_noisy.dtype, \"array: \\n\", y_noisy)\n",
    "# Homogeneous coordinates!\n",
    "y_noisy_homogeneous = np.concatenate([y_noisy, np.ones((10,1))], axis=1)\n",
    "print(\"y_noisy_homogeneous = \", y_noisy_homogeneous.shape, y_noisy_homogeneous.dtype, \"array: \\n\", y_noisy_homogeneous)\n",
    "\n",
    "# Fit!\n",
    "H = np.linalg.lstsq(x_homogeneous, y_noisy_homogeneous, rcond=None)[0]\n",
    "print(\"\\nH = \", H.shape, H.dtype, \"array: \\n\", H)\n",
    "error = np.round(np.dot(x_homogeneous, H) - y_noisy_homogeneous, decimals=8)\n",
    "print(\"Error = np.dot(x_homogeneous,H) - y_noisy_homogeneous = \\n\", error)\n",
    "\n"
   ]
  },
  {
   "cell_type": "code",
   "execution_count": null,
   "metadata": {
    "colab": {
     "base_uri": "https://localhost:8080/",
     "height": 130
    },
    "executionInfo": {
     "elapsed": 421,
     "status": "error",
     "timestamp": 1602294628876,
     "user": {
      "displayName": "Austin Osceola Narcomey",
      "photoUrl": "",
      "userId": "13958115673227118223"
     },
     "user_tz": 420
    },
    "id": "vhW5ZuT00DTh",
    "outputId": "9b348f03-1c03-456b-d2bf-b8cd7190e68f"
   },
   "outputs": [],
   "source": [
    "# Compare with theoretical H\n",
    "scaling_matrix = \n",
    "translation_vector = \n",
    "homogeneous_row = \n",
    "print(\"\\nscaling_matrix = \", scaling_matrix.shape, scaling_matrix.dtype, \"array: \\n\", scaling_matrix)\n",
    "print(\"Translation_vector = \", translation_vector.shape, translation_vector.dtype, \"array: \\n\", translation_vector)\n",
    "print(\"homogeneous_row = \", homogeneous_row.shape, homogeneous_row.dtype, \"array: \\n\", homogeneous_row)\n",
    "H_theoretical = \n",
    "H_theoretical = \n",
    "print(\"H_theoretical = \", H_theoretical.shape, H_theoretical.dtype, \"array: \\n\", H_theoretical)\n",
    "print(\"H = \", H.shape, H.dtype, \"array: \\n\", np.round(H, decimals=8))\n",
    "print(\"Diff = H_theoretical - H = \\n\", np.round(H_theoretical - H, decimals=8))"
   ]
  },
  {
   "cell_type": "code",
   "execution_count": null,
   "metadata": {
    "colab": {
     "base_uri": "https://localhost:8080/",
     "height": 748
    },
    "executionInfo": {
     "elapsed": 491,
     "status": "ok",
     "timestamp": 1602294635056,
     "user": {
      "displayName": "Austin Osceola Narcomey",
      "photoUrl": "",
      "userId": "13958115673227118223"
     },
     "user_tz": 420
    },
    "id": "tconnL6SuZ6J",
    "outputId": "191a3a39-9e9d-4bfa-a883-1039bb699045"
   },
   "outputs": [],
   "source": [
    "### SOLUTION ###\n",
    "# Compare with theoretical H\n",
    "scaling_matrix = np.eye(2)*scaling\n",
    "translation_vector = translation.reshape(2,1)\n",
    "homogeneous_row = np.array([0,0,1]).reshape(1,3)\n",
    "print(\"\\nscaling_matrix = \", scaling_matrix.shape, scaling_matrix.dtype, \"array: \\n\", scaling_matrix)\n",
    "print(\"Translation_vector = \", translation_vector.shape, translation_vector.dtype, \"array: \\n\", translation_vector)\n",
    "print(\"homogeneous_row = \", homogeneous_row.shape, homogeneous_row.dtype, \"array: \\n\", homogeneous_row)\n",
    "H_theoretical = np.concatenate([scaling_matrix, translation_vector], axis=1)\n",
    "H_theoretical = np.concatenate([H_theoretical, homogeneous_row], axis=0)\n",
    "H_theoretical = H_theoretical\n",
    "\n",
    "print(\"H_theoretical = \", H_theoretical.shape, H_theoretical.dtype, \"array: \\n\", H_theoretical)\n",
    "print(\"H = \", H.shape, H.dtype, \"array: \\n\", np.round(H, decimals=8))\n",
    "print(\"Diff = H_theoretical - H = \\n\", np.round(H_theoretical - H, decimals=8))\n",
    "\n",
    "\n",
    "error = np.round(np.dot(x_homogeneous, H) - y_noisy_homogeneous, decimals=8)\n",
    "print(\"Error = np.dot(x_homogeneous,H) - y_noisy_homogeneous = \\n\", error)\n",
    "error_theoretical = np.round(np.dot(x_homogeneous, H_theoretical) - y_noisy_homogeneous, decimals=8)\n",
    "print(\"Error = np.dot(x_homogeneous,H_theoretical) - y_noisy_homogeneous = \\n\", error_theoretical)"
   ]
  },
  {
   "cell_type": "markdown",
   "metadata": {
    "id": "PAeTJboHULVY"
   },
   "source": [
    "### Vectorizing equations\n",
    "In classes with CS 231N, you'll want to write your equations in matrix format because it's more effecient to run operations in parallel. Here's an example: This can be really tough, so here's an example:"
   ]
  },
  {
   "cell_type": "markdown",
   "metadata": {
    "id": "pS75MTUyULVY"
   },
   "source": [
    "Suppose we didn't know that linear regression had a closed form solution. We could also solve the problem above using gradient descent.\n",
    "\n",
    "The gradient descent update rule looks like this:\n",
    "$$\\theta_{t+1} =\\theta_t - \\alpha \\nabla_{\\theta} L(\\theta, X)$$\n",
    "\n",
    "So we need to find the gradient with respect to $\\theta$. Recall that a gradient is a vector of partial derivatives.  So let's start by finding just one partial derivative.\n",
    "\n",
    "$$\\frac{\\partial}{\\partial \\theta_j}L(\\theta, X) = \\Sigma_{i = 1}^n 2(y_i - f(x_i))(-x_i[j])$$ where $$f(x_i) = \\theta_0 + \\theta_1 x_1 + ... +\\theta_n x_n$$\n",
    "\n",
    "Now the task is to get this into matrix format! Our theta vector is $\\theta = [\\theta_0,\\theta_1] \\in R^2$. Notice that our residuals can be written as a vector, $y - f(\\theta, X) \\in R^n$.\n",
    "\n",
    "In matrix multiplication, we dot the row of the first matrix with the columns of the second matrix.  A sum (like above) can oftern be expressed as a row times a column.\n",
    "\n",
    "$$\\theta_{t+1} =\\theta_t - \\alpha X^T (y - f(X, \\theta))$$\n",
    "\n",
    "\n",
    "\n",
    "\n",
    "    "
   ]
  },
  {
   "cell_type": "markdown",
   "metadata": {
    "id": "-6cfKU6JzcEp"
   },
   "source": [
    "### In numpy\n",
    "\n",
    "np.repeat (https://numpy.org/doc/stable/reference/generated/numpy.repeat.html) and np.tile (https://numpy.org/doc/stable/reference/generated/numpy.tile.html) can be really useful for this!"
   ]
  },
  {
   "cell_type": "markdown",
   "metadata": {
    "id": "6tzq_Ea0ULUp"
   },
   "source": [
    "# Making Plots in Jupyter Notebook\n",
    "A Matplotlib figure can be categorized into several parts as below:\n",
    "    \n",
    "**Figure:** It is a whole figure which may contain one or more than one axes (plots). You can think of a Figure as a canvas which contains plots.\n",
    "\n",
    "**Axes:** It is what we generally think of as a plot. A Figure can contain many Axes. It contains two or three (in the case of 3D) Axis objects. Each Axes has a title, an x-label and a y-label.\n",
    "\n",
    "**Axis:** They are the number line like objects and take care of generating the graph limits."
   ]
  },
  {
   "cell_type": "code",
   "execution_count": null,
   "metadata": {
    "id": "0PVEEy8aULUp"
   },
   "outputs": [],
   "source": [
    "import matplotlib.pyplot as plt"
   ]
  },
  {
   "cell_type": "code",
   "execution_count": null,
   "metadata": {
    "id": "NHYzSqjsULUr"
   },
   "outputs": [],
   "source": [
    "x = np.arange(10)**2\n",
    "print(x)\n",
    "plt.plot(x)\n",
    "plt.show()"
   ]
  },
  {
   "cell_type": "code",
   "execution_count": null,
   "metadata": {
    "id": "VTf0We61ULUt"
   },
   "outputs": [],
   "source": [
    "plt.figure(figsize = (15,15))\n",
    "plt.plot(x)\n",
    "plt.title(\"This is a graph\")\n",
    "plt.xlabel(\"this is the x label\")\n",
    "plt.ylabel(\"this is the y label\")\n",
    "plt.show()"
   ]
  },
  {
   "cell_type": "markdown",
   "metadata": {
    "id": "Sw-kHG0DULVY"
   },
   "source": [
    "### Additional Resources\n",
    "https://www.youtube.com/watch?v=8Mpc9ukltVA\n",
    "\n",
    "https://jakevdp.github.io/PythonDataScienceHandbook/02.01-understanding-data-types.html\n",
    "\n",
    "https://towardsdatascience.com/matplotlib-tutorial-learn-basics-of-pythons-powerful-plotting-library-b5d1b8f67596\n",
    "\n",
    "https://scipy-cookbook.readthedocs.io/items/ViewsVsCopies.html\n",
    "\n",
    "https://www.geeksforgeeks.org/copy-python-deep-copy-shallow-copy/"
   ]
  }
 ],
 "metadata": {
  "colab": {
   "collapsed_sections": [
    "tLnAtAOxULSk",
    "ygFOhKs-ULTD",
    "fM0IsjhcULTY",
    "22iFHMmfULTg",
    "6RcxIVfKULTh",
    "hcMsgi8WULTt",
    "LCkMb4yEULTz",
    "HlkYq9vFULT_",
    "J-i03DPyULUy",
    "Sw-kHG0DULVY"
   ],
   "name": "Advanced Numpy Tutorial Complete.ipynb",
   "provenance": []
  },
  "kernelspec": {
   "display_name": "Python 3 (ipykernel)",
   "language": "python",
   "name": "python3"
  },
  "language_info": {
   "codemirror_mode": {
    "name": "ipython",
    "version": 3
   },
   "file_extension": ".py",
   "mimetype": "text/x-python",
   "name": "python",
   "nbconvert_exporter": "python",
   "pygments_lexer": "ipython3",
   "version": "3.9.12"
  }
 },
 "nbformat": 4,
 "nbformat_minor": 1
}
